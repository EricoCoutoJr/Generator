{
  "cells": [
    {
      "cell_type": "markdown",
      "metadata": {
        "id": "view-in-github",
        "colab_type": "text"
      },
      "source": [
        "<a href=\"https://colab.research.google.com/github/EricoCoutoJr/Generator/blob/main/Exemplo%20I.ipynb\" target=\"_parent\"><img src=\"https://colab.research.google.com/assets/colab-badge.svg\" alt=\"Open In Colab\"/></a>"
      ]
    },
    {
      "cell_type": "markdown",
      "metadata": {
        "id": "njYv-vWiUWXJ"
      },
      "source": [
        "## **Produzindo uma função simples de gerador Fibonacci (palavra chave yield)**\n",
        "O Algorítimo gerado abaixo retorna um atributo via **yield n** que preserva o valor a cada chamada"
      ]
    },
    {
      "cell_type": "code",
      "execution_count": null,
      "metadata": {
        "id": "iHNbe3aVSKzS"
      },
      "outputs": [],
      "source": [
        "def genFib():\n",
        "    fib_1 = 1\n",
        "    fib_2 = 0\n",
        "    while True:\n",
        "      n = fib_1 + fib_2\n",
        "      yield n\n",
        "      fib_2 = fib_1\n",
        "      fib_1 = n"
      ]
    },
    {
      "cell_type": "code",
      "execution_count": null,
      "metadata": {
        "id": "i_dFWWhtTBDj"
      },
      "outputs": [],
      "source": [
        "# Criando um Objeto do tipo Generatior conforme a função genFib()\n",
        "fib = genFib()"
      ]
    },
    {
      "cell_type": "code",
      "execution_count": null,
      "metadata": {
        "colab": {
          "base_uri": "https://localhost:8080/"
        },
        "id": "f6gG5qarTaRE",
        "outputId": "b8cbbce2-1c31-4d2e-abe7-c5a22e1d809f"
      },
      "outputs": [
        {
          "output_type": "stream",
          "name": "stdout",
          "text": [
            "5\n"
          ]
        }
      ],
      "source": [
        "# com o __next__ coleta o ultimo valor atribuido a n pelo cálculo feito internamente na função e disponibilizado pelo yield\n",
        "# a cada vez que a função é chamada nesse formato ele informa o próximo valor calculado na função\n",
        "# para este exemplo foi utilizado a sequência de Fibonacci\n",
        "print(fib.__next__())"
      ]
    },
    {
      "cell_type": "code",
      "execution_count": null,
      "metadata": {
        "colab": {
          "background_save": true
        },
        "id": "qRq4ogUQauQp",
        "outputId": "5525edbc-eabc-4c09-8a93-12d19c169b3f"
      },
      "outputs": [
        {
          "data": {
            "text/plain": [
              "generator"
            ]
          },
          "execution_count": null,
          "metadata": {},
          "output_type": "execute_result"
        }
      ],
      "source": [
        "# aqui é demostrado o tipo de objeto criado\n",
        "type(fib)"
      ]
    },
    {
      "cell_type": "markdown",
      "source": [
        "### Outro exemplo de uso dos Generator"
      ],
      "metadata": {
        "id": "MMHrdI831AxN"
      }
    },
    {
      "cell_type": "code",
      "source": [
        "# Outro exemplo de uso do yield em uma função generator\n",
        "def nextSquare():\n",
        "    i = 1\n",
        "  \n",
        "    # Um luping infinito para gerar uma sequência ao ser chamado pelo __next__\n",
        "    while True:\n",
        "        yield i*i                \n",
        "        i += 1    "
      ],
      "metadata": {
        "id": "SxEbBqd8tgNj"
      },
      "execution_count": null,
      "outputs": []
    },
    {
      "cell_type": "code",
      "source": [
        "# Criando outro objeto gerador\n",
        "square = nextSquare()"
      ],
      "metadata": {
        "id": "43TDtT-Yt7RW"
      },
      "execution_count": null,
      "outputs": []
    },
    {
      "cell_type": "code",
      "source": [
        "# Chamando o valor seguinte, gerado pela função e disponibilizado pela palavra chave yield\n",
        "s = 1\n",
        "while s <= 10:\n",
        "  print(square.__next__())\n",
        "  s +=1"
      ],
      "metadata": {
        "colab": {
          "base_uri": "https://localhost:8080/"
        },
        "id": "KaK_SzM7ur3z",
        "outputId": "5d1cd096-c643-4cd7-84be-de1b8b36092a"
      },
      "execution_count": null,
      "outputs": [
        {
          "output_type": "stream",
          "name": "stdout",
          "text": [
            "1\n",
            "4\n",
            "9\n",
            "16\n",
            "25\n",
            "36\n",
            "49\n",
            "64\n",
            "81\n",
            "100\n"
          ]
        }
      ]
    },
    {
      "cell_type": "markdown",
      "metadata": {
        "id": "otgwdLMUXEqJ"
      },
      "source": [
        "Esperimente usar a classe __next__ do objeto para que ele retorne o valor seguinte."
      ]
    }
  ],
  "metadata": {
    "colab": {
      "name": "Cópia de Untitled7.ipynb",
      "provenance": [],
      "collapsed_sections": [],
      "authorship_tag": "ABX9TyOPu3yP7kuwJ2UsJdnULQaV",
      "include_colab_link": true
    },
    "kernelspec": {
      "display_name": "Python 3",
      "name": "python3"
    },
    "language_info": {
      "name": "python"
    }
  },
  "nbformat": 4,
  "nbformat_minor": 0
}